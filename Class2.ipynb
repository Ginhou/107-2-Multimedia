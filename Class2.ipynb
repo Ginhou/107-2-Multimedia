{
 "cells": [
  {
   "cell_type": "markdown",
   "metadata": {
    "colab_type": "text",
    "id": "view-in-github"
   },
   "source": [
    "<a href=\"https://colab.research.google.com/github/VongolaXIman/107-2-Multimedia/blob/master/Class2.ipynb\" target=\"_parent\"><img src=\"https://colab.research.google.com/assets/colab-badge.svg\" alt=\"Open In Colab\"/></a>"
   ]
  },
  {
   "cell_type": "code",
   "execution_count": 1,
   "metadata": {
    "colab": {},
    "colab_type": "code",
    "id": "hGustjz2hKzV"
   },
   "outputs": [],
   "source": [
    "import numpy as np\n",
    "#https://zh.wikipedia.org/wiki/NumPy"
   ]
  },
  {
   "cell_type": "code",
   "execution_count": 2,
   "metadata": {
    "colab": {
     "base_uri": "https://localhost:8080/",
     "height": 34
    },
    "colab_type": "code",
    "id": "AooqOCK7oG8R",
    "outputId": "8773a7a3-2b1e-44b0-ff74-50d7cebd3883"
   },
   "outputs": [
    {
     "data": {
      "text/plain": [
       "array([1, 2, 3])"
      ]
     },
     "execution_count": 2,
     "metadata": {},
     "output_type": "execute_result"
    }
   ],
   "source": [
    "x = np.array([1,2,3])\n",
    "x"
   ]
  },
  {
   "cell_type": "code",
   "execution_count": 3,
   "metadata": {
    "colab": {
     "base_uri": "https://localhost:8080/",
     "height": 35
    },
    "colab_type": "code",
    "id": "6RgJNmw5oHPg",
    "outputId": "4188d940-aa51-4116-ce9c-8dd41f2487d5"
   },
   "outputs": [
    {
     "data": {
      "text/plain": [
       "array([0, 1, 2, 3, 4, 5, 6, 7, 8, 9])"
      ]
     },
     "execution_count": 3,
     "metadata": {},
     "output_type": "execute_result"
    }
   ],
   "source": [
    "y = np.arange(10)\n",
    "y"
   ]
  },
  {
   "cell_type": "code",
   "execution_count": 4,
   "metadata": {
    "colab": {
     "base_uri": "https://localhost:8080/",
     "height": 35
    },
    "colab_type": "code",
    "id": "EJ9cuYePoHeg",
    "outputId": "d88a9b36-f586-4c88-9dd9-87dffa0e435b"
   },
   "outputs": [
    {
     "data": {
      "text/plain": [
       "array([ 0.,  5., 10., 15.])"
      ]
     },
     "execution_count": 4,
     "metadata": {},
     "output_type": "execute_result"
    }
   ],
   "source": [
    "a = np.array([1,3,6,9])\n",
    "b = np.linspace(0,15,4) #https://docs.scipy.org/doc/numpy/reference/generated/numpy.linspace.html\n",
    "b"
   ]
  },
  {
   "cell_type": "code",
   "execution_count": 5,
   "metadata": {
    "colab": {
     "base_uri": "https://localhost:8080/",
     "height": 35
    },
    "colab_type": "code",
    "id": "_wMXTGgp26cm",
    "outputId": "c84f5446-5479-4d84-d044-889b93aaab44"
   },
   "outputs": [
    {
     "data": {
      "text/plain": [
       "array([ 1., -2., -4., -6.])"
      ]
     },
     "execution_count": 5,
     "metadata": {},
     "output_type": "execute_result"
    }
   ],
   "source": [
    "c = a-b\n",
    "c"
   ]
  },
  {
   "cell_type": "code",
   "execution_count": 6,
   "metadata": {
    "colab": {
     "base_uri": "https://localhost:8080/",
     "height": 35
    },
    "colab_type": "code",
    "id": "9o0TaTw52_CE",
    "outputId": "a0971fb1-4294-4b6d-e170-7678d8e3a855"
   },
   "outputs": [
    {
     "data": {
      "text/plain": [
       "array([ 1,  9, 36, 81], dtype=int32)"
      ]
     },
     "execution_count": 6,
     "metadata": {},
     "output_type": "execute_result"
    }
   ],
   "source": [
    "a**2"
   ]
  },
  {
   "cell_type": "code",
   "execution_count": 7,
   "metadata": {
    "colab": {
     "base_uri": "https://localhost:8080/",
     "height": 70
    },
    "colab_type": "code",
    "id": "ZYL4OZWl3Fx0",
    "outputId": "83484a9a-de64-45f1-b847-9b5b54863a47"
   },
   "outputs": [
    {
     "data": {
      "text/plain": [
       "array([[1, 4, 7],\n",
       "       [2, 5, 8],\n",
       "       [3, 6, 9]])"
      ]
     },
     "execution_count": 7,
     "metadata": {},
     "output_type": "execute_result"
    }
   ],
   "source": [
    "a = np.array([[1,2,3],[4,5,6],[7,8,9]])\n",
    "a.transpose()"
   ]
  },
  {
   "cell_type": "code",
   "execution_count": 8,
   "metadata": {
    "colab": {
     "base_uri": "https://localhost:8080/",
     "height": 437
    },
    "colab_type": "code",
    "id": "lgjxLTpS3GXc",
    "outputId": "231b043c-7394-4c37-e124-c57821d62c71"
   },
   "outputs": [
    {
     "data": {
      "text/plain": [
       "array([[-4.50359963e+15,  9.00719925e+15, -4.50359963e+15],\n",
       "       [ 9.00719925e+15, -1.80143985e+16,  9.00719925e+15],\n",
       "       [-4.50359963e+15,  9.00719925e+15, -4.50359963e+15]])"
      ]
     },
     "execution_count": 8,
     "metadata": {},
     "output_type": "execute_result"
    }
   ],
   "source": [
    "np.linalg.inv(a)\n",
    "#https://www.smwenku.com/a/5b8d7e462b717718833e68ed\n",
    "#https://matrixcalc.org/zh/"
   ]
  },
  {
   "cell_type": "code",
   "execution_count": 9,
   "metadata": {
    "colab": {
     "base_uri": "https://localhost:8080/",
     "height": 51
    },
    "colab_type": "code",
    "id": "2XYSKVT-N9Ex",
    "outputId": "91c9a04a-9005-44d2-8064-12e963b76f0c"
   },
   "outputs": [
    {
     "data": {
      "text/plain": [
       "array([[-2. ,  1. ],\n",
       "       [ 1.5, -0.5]])"
      ]
     },
     "execution_count": 9,
     "metadata": {},
     "output_type": "execute_result"
    }
   ],
   "source": [
    "a2= np.array([[1., 2.], [3., 4.]])\n",
    "np.linalg.inv(a2)"
   ]
  },
  {
   "cell_type": "code",
   "execution_count": 10,
   "metadata": {
    "colab": {
     "base_uri": "https://localhost:8080/",
     "height": 35
    },
    "colab_type": "code",
    "id": "RIm0y0-gP8hn",
    "outputId": "21c10be6-1622-4ddf-b2e4-93a29348cfd5"
   },
   "outputs": [
    {
     "data": {
      "text/plain": [
       "array([2., 3.])"
      ]
     },
     "execution_count": 10,
     "metadata": {},
     "output_type": "execute_result"
    }
   ],
   "source": [
    "#https://docs.scipy.org/doc/numpy/reference/generated/numpy.linalg.solve.html\n",
    "#https://ipreacher.github.io/2017/common-symbolic-calculations/\n",
    "a3 = np.array([[3,1], [1,2]])\n",
    "b = np.array([9,8])\n",
    "#3 * x0 + x1 = 9\n",
    "#x0 + 2 * x1 = 8\n",
    "x = np.linalg.solve(a3, b)\n",
    "x\n",
    "# b.shape"
   ]
  },
  {
   "cell_type": "code",
   "execution_count": 11,
   "metadata": {
    "colab": {
     "base_uri": "https://localhost:8080/",
     "height": 70
    },
    "colab_type": "code",
    "id": "5ucWveriP8wP",
    "outputId": "2e15d917-2d8d-4bb1-cd0b-e58edecd8338"
   },
   "outputs": [
    {
     "data": {
      "text/plain": [
       "array([[0.88035837, 0.26842616, 0.73731441],\n",
       "       [0.51266326, 0.36869762, 0.53344058],\n",
       "       [0.63076338, 0.18795129, 0.73228484]])"
      ]
     },
     "execution_count": 11,
     "metadata": {},
     "output_type": "execute_result"
    }
   ],
   "source": [
    "c = np.random.rand(3,3)\n",
    "c"
   ]
  },
  {
   "cell_type": "code",
   "execution_count": 12,
   "metadata": {
    "colab": {
     "base_uri": "https://localhost:8080/",
     "height": 70
    },
    "colab_type": "code",
    "id": "NHHO5psGXptg",
    "outputId": "a0f8e76b-fd40-449f-b464-f3cd749538a3"
   },
   "outputs": [
    {
     "data": {
      "text/plain": [
       "array([[ 3.79797501,  1.56967527,  4.00105007],\n",
       "       [ 9.86933002,  4.04490049, 10.01016952],\n",
       "       [15.94068503,  6.52012571, 16.01928898]])"
      ]
     },
     "execution_count": 12,
     "metadata": {},
     "output_type": "execute_result"
    }
   ],
   "source": [
    "np.dot(a,c)"
   ]
  },
  {
   "cell_type": "code",
   "execution_count": null,
   "metadata": {
    "colab": {},
    "colab_type": "code",
    "id": "NI2MDz_NIw0z"
   },
   "outputs": [],
   "source": []
  },
  {
   "cell_type": "markdown",
   "metadata": {
    "colab_type": "text",
    "id": "ZaXBRL-YIwf1"
   },
   "source": []
  },
  {
   "cell_type": "code",
   "execution_count": 13,
   "metadata": {
    "colab": {
     "base_uri": "https://localhost:8080/",
     "height": 35
    },
    "colab_type": "code",
    "id": "WakSFFqXoD5T",
    "outputId": "7d9632c0-2d91-4dfd-bdbe-a490cca34806"
   },
   "outputs": [
    {
     "data": {
      "text/plain": [
       "numpy.ndarray"
      ]
     },
     "execution_count": 13,
     "metadata": {},
     "output_type": "execute_result"
    }
   ],
   "source": [
    "z = np.zeros((2,4),np.uint8)\n",
    "type(z)"
   ]
  },
  {
   "cell_type": "code",
   "execution_count": 14,
   "metadata": {
    "colab": {
     "base_uri": "https://localhost:8080/",
     "height": 52
    },
    "colab_type": "code",
    "id": "X9KsdBhKhiBr",
    "outputId": "b46e9f2e-6009-4c30-a036-f28cdc2030eb"
   },
   "outputs": [
    {
     "data": {
      "text/plain": [
       "array([[0, 0, 0, 0],\n",
       "       [0, 0, 0, 0]], dtype=uint8)"
      ]
     },
     "execution_count": 14,
     "metadata": {},
     "output_type": "execute_result"
    }
   ],
   "source": [
    "z"
   ]
  },
  {
   "cell_type": "code",
   "execution_count": 15,
   "metadata": {
    "colab": {
     "base_uri": "https://localhost:8080/",
     "height": 52
    },
    "colab_type": "code",
    "id": "MtSXxRDphkzy",
    "outputId": "6dc64635-79c4-4a19-c825-ffe0106d0057"
   },
   "outputs": [
    {
     "data": {
      "text/plain": [
       "array([[1, 1, 1, 1],\n",
       "       [1, 1, 1, 1]])"
      ]
     },
     "execution_count": 15,
     "metadata": {},
     "output_type": "execute_result"
    }
   ],
   "source": [
    "o = np.ones((2,4),np.int32)\n",
    "o"
   ]
  },
  {
   "cell_type": "code",
   "execution_count": 16,
   "metadata": {
    "colab": {
     "base_uri": "https://localhost:8080/",
     "height": 52
    },
    "colab_type": "code",
    "id": "5tNLPydXoRIm",
    "outputId": "ce29e8e6-feff-4e93-9656-90f55a10eea6"
   },
   "outputs": [
    {
     "data": {
      "text/plain": [
       "array([[ 4., 12.,  3.,  1.],\n",
       "       [10., 12., 14., 29.]], dtype=float32)"
      ]
     },
     "execution_count": 16,
     "metadata": {},
     "output_type": "execute_result"
    }
   ],
   "source": [
    "m = np.array([[4,12,3,1],[10,12,14,29]],np.float32)\n",
    "m"
   ]
  },
  {
   "cell_type": "code",
   "execution_count": 17,
   "metadata": {
    "colab": {
     "base_uri": "https://localhost:8080/",
     "height": 35
    },
    "colab_type": "code",
    "id": "PnrPEOQ0poUL",
    "outputId": "5701a89d-693b-4ec0-8e93-7a3d06b74337"
   },
   "outputs": [
    {
     "data": {
      "text/plain": [
       "(2, 4)"
      ]
     },
     "execution_count": 17,
     "metadata": {},
     "output_type": "execute_result"
    }
   ],
   "source": [
    "m.shape"
   ]
  },
  {
   "cell_type": "code",
   "execution_count": 18,
   "metadata": {
    "colab": {
     "base_uri": "https://localhost:8080/",
     "height": 35
    },
    "colab_type": "code",
    "id": "eCTg2OJTqKEP",
    "outputId": "ac5c13e4-c8e5-4e12-e463-5dd94dd60edd"
   },
   "outputs": [
    {
     "data": {
      "text/plain": [
       "dtype('float32')"
      ]
     },
     "execution_count": 18,
     "metadata": {},
     "output_type": "execute_result"
    }
   ],
   "source": [
    "m.dtype"
   ]
  },
  {
   "cell_type": "code",
   "execution_count": 19,
   "metadata": {
    "colab": {
     "base_uri": "https://localhost:8080/",
     "height": 105
    },
    "colab_type": "code",
    "id": "Z4fusCP9of7H",
    "outputId": "c7ed5f66-74fe-4fb8-c5e7-e8a52ec8204a"
   },
   "outputs": [
    {
     "data": {
      "text/plain": [
       "array([[[ 1.,  2.,  3.,  4.],\n",
       "        [ 5.,  6.,  7.,  8.]],\n",
       "\n",
       "       [[10., 11., 12., 14.],\n",
       "        [15., 16., 17., 18.]]], dtype=float32)"
      ]
     },
     "execution_count": 19,
     "metadata": {},
     "output_type": "execute_result"
    }
   ],
   "source": [
    "m = np.array([[[1,2,3,4],[5,6,7,8]],[[10,11,12,14],[15,16,17,18]]],np.float32)\n",
    "m"
   ]
  },
  {
   "cell_type": "code",
   "execution_count": 20,
   "metadata": {
    "colab": {},
    "colab_type": "code",
    "id": "xHlTAuz8qN1b"
   },
   "outputs": [],
   "source": [
    "m = np.array([[14,12,3,1],[10,12,114,29],[67,23,534,2]],np.float32)"
   ]
  },
  {
   "cell_type": "code",
   "execution_count": 21,
   "metadata": {
    "colab": {
     "base_uri": "https://localhost:8080/",
     "height": 35
    },
    "colab_type": "code",
    "id": "-GTlECEjrNdD",
    "outputId": "f11413c0-53ed-4075-ab35-15510e8c80e0"
   },
   "outputs": [
    {
     "data": {
      "text/plain": [
       "29.0"
      ]
     },
     "execution_count": 21,
     "metadata": {},
     "output_type": "execute_result"
    }
   ],
   "source": [
    "m[1,3]"
   ]
  },
  {
   "cell_type": "code",
   "execution_count": 22,
   "metadata": {
    "colab": {
     "base_uri": "https://localhost:8080/",
     "height": 35
    },
    "colab_type": "code",
    "id": "tTjJNxFqrPmL",
    "outputId": "e205bbce-a634-470d-de57-db7bb3d5e193"
   },
   "outputs": [
    {
     "data": {
      "text/plain": [
       "array([ 67.,  23., 534.,   2.], dtype=float32)"
      ]
     },
     "execution_count": 22,
     "metadata": {},
     "output_type": "execute_result"
    }
   ],
   "source": [
    "m[2,:]"
   ]
  },
  {
   "cell_type": "code",
   "execution_count": 23,
   "metadata": {
    "colab": {
     "base_uri": "https://localhost:8080/",
     "height": 35
    },
    "colab_type": "code",
    "id": "-rR5OT1_rVTn",
    "outputId": "d80e0970-2097-4262-a5de-363b030d39f4"
   },
   "outputs": [
    {
     "data": {
      "text/plain": [
       "array([ 1., 29.,  2.], dtype=float32)"
      ]
     },
     "execution_count": 23,
     "metadata": {},
     "output_type": "execute_result"
    }
   ],
   "source": [
    "m[:,3]"
   ]
  },
  {
   "cell_type": "code",
   "execution_count": 24,
   "metadata": {
    "colab": {
     "base_uri": "https://localhost:8080/",
     "height": 52
    },
    "colab_type": "code",
    "id": "uAMSx3ZcrXxv",
    "outputId": "9594c55c-2b57-4d76-f3cf-339d1b210ce7"
   },
   "outputs": [
    {
     "data": {
      "text/plain": [
       "array([[ 12.,   3.],\n",
       "       [ 12., 114.]], dtype=float32)"
      ]
     },
     "execution_count": 24,
     "metadata": {},
     "output_type": "execute_result"
    }
   ],
   "source": [
    "m[0:2,1:3]"
   ]
  },
  {
   "cell_type": "code",
   "execution_count": 25,
   "metadata": {
    "colab": {
     "base_uri": "https://localhost:8080/",
     "height": 157
    },
    "colab_type": "code",
    "id": "bUahAnmUrdwI",
    "outputId": "7d101f22-d471-4a2a-b1c1-0ff6fde6c654"
   },
   "outputs": [
    {
     "data": {
      "text/plain": [
       "array([[[ 1.,  2.,  3.,  4.],\n",
       "        [ 5.,  6.,  7.,  8.]],\n",
       "\n",
       "       [[10., 11., 12., 14.],\n",
       "        [15., 16., 17., 18.]],\n",
       "\n",
       "       [[11., 12., 43., 32.],\n",
       "        [ 1.,  5., 10., 23.]]], dtype=float32)"
      ]
     },
     "execution_count": 25,
     "metadata": {},
     "output_type": "execute_result"
    }
   ],
   "source": [
    "m = np.array([[[1,2,3,4],[5,6,7,8]],[[10,11,12,14],[15,16,17,18]],[[11,12,43,32],[1,5,10,23]]],np.float32)\n",
    "m"
   ]
  },
  {
   "cell_type": "code",
   "execution_count": 26,
   "metadata": {
    "colab": {
     "base_uri": "https://localhost:8080/",
     "height": 70
    },
    "colab_type": "code",
    "id": "KCJGbHMLtmF4",
    "outputId": "8bd74a8b-4cf4-40cb-cb08-86393db557d7"
   },
   "outputs": [
    {
     "data": {
      "text/plain": [
       "array([[ 1.,  5.],\n",
       "       [10., 15.],\n",
       "       [11.,  1.]], dtype=float32)"
      ]
     },
     "execution_count": 26,
     "metadata": {},
     "output_type": "execute_result"
    }
   ],
   "source": [
    "m[:,:,0]\n",
    "# dimension*w*l"
   ]
  },
  {
   "cell_type": "code",
   "execution_count": 27,
   "metadata": {
    "colab": {},
    "colab_type": "code",
    "id": "UTkCON4xtusp"
   },
   "outputs": [],
   "source": [
    "#m[:,:,0].shape"
   ]
  },
  {
   "cell_type": "code",
   "execution_count": 28,
   "metadata": {
    "colab": {
     "base_uri": "https://localhost:8080/",
     "height": 52
    },
    "colab_type": "code",
    "id": "VIkviUcnuB2e",
    "outputId": "ba15ebb7-6a21-431d-d2a0-e4f00ca8836a"
   },
   "outputs": [
    {
     "data": {
      "text/plain": [
       "array([[1., 2., 3., 4.],\n",
       "       [5., 6., 7., 8.]], dtype=float32)"
      ]
     },
     "execution_count": 28,
     "metadata": {},
     "output_type": "execute_result"
    }
   ],
   "source": [
    "m[0,:,:]"
   ]
  },
  {
   "cell_type": "code",
   "execution_count": 29,
   "metadata": {
    "colab": {
     "base_uri": "https://localhost:8080/",
     "height": 52
    },
    "colab_type": "code",
    "id": "Ek0hoHySuIHr",
    "outputId": "fce3e69c-b3c7-477c-c677-bc4268c62c40"
   },
   "outputs": [
    {
     "data": {
      "text/plain": [
       "array([[148,  17, 150],\n",
       "       [200,   4,  40]], dtype=uint8)"
      ]
     },
     "execution_count": 29,
     "metadata": {},
     "output_type": "execute_result"
    }
   ],
   "source": [
    "src1 = np.array([[23,123,90],[100,250,0]],np.uint8)\n",
    "src2 = np.array([[125,150,60],[100,10,40]],np.uint8)\n",
    "dst = src1 + src2\n",
    "dst"
   ]
  },
  {
   "cell_type": "code",
   "execution_count": 30,
   "metadata": {
    "colab": {
     "base_uri": "https://localhost:8080/",
     "height": 52
    },
    "colab_type": "code",
    "id": "k5yFcktt-aHF",
    "outputId": "b6ac0143-3dbe-4d6d-f989-2eb6ddc5c69b"
   },
   "outputs": [
    {
     "data": {
      "text/plain": [
       "array([[148., 273., 150.],\n",
       "       [200., 260.,  40.]], dtype=float32)"
      ]
     },
     "execution_count": 30,
     "metadata": {},
     "output_type": "execute_result"
    }
   ],
   "source": [
    "src2 = np.array([[125,150,60],[100,10,40]],np.float32)\n",
    "dst = src1 + src2\n",
    "dst"
   ]
  },
  {
   "cell_type": "code",
   "execution_count": 31,
   "metadata": {
    "colab": {
     "base_uri": "https://localhost:8080/",
     "height": 52
    },
    "colab_type": "code",
    "id": "YWnX1sI3_aBc",
    "outputId": "6bdd3a64-7e29-412b-abcf-a8c329630bf3"
   },
   "outputs": [
    {
     "data": {
      "text/plain": [
       "array([[148., 273., 150.],\n",
       "       [200., 260.,  40.]], dtype=float32)"
      ]
     },
     "execution_count": 31,
     "metadata": {},
     "output_type": "execute_result"
    }
   ],
   "source": [
    "import cv2\n",
    "dst = cv2.add(src1, src2, dtype=cv2.CV_32F)\n",
    "dst"
   ]
  },
  {
   "cell_type": "code",
   "execution_count": 32,
   "metadata": {
    "colab": {
     "base_uri": "https://localhost:8080/",
     "height": 52
    },
    "colab_type": "code",
    "id": "R1URVUEv_kZh",
    "outputId": "0b39ff5d-3b59-407d-d3c8-6164be6cab6f"
   },
   "outputs": [
    {
     "data": {
      "text/plain": [
       "array([[154, 229,  30],\n",
       "       [  0, 240, 216]], dtype=uint8)"
      ]
     },
     "execution_count": 32,
     "metadata": {},
     "output_type": "execute_result"
    }
   ],
   "source": [
    "src2 = np.array([[125,150,60],[100,10,40]],np.uint8)\n",
    "dst = src1 - src2\n",
    "dst"
   ]
  },
  {
   "cell_type": "code",
   "execution_count": 33,
   "metadata": {
    "colab": {
     "base_uri": "https://localhost:8080/",
     "height": 52
    },
    "colab_type": "code",
    "id": "2xfXc8LBXeJ_",
    "outputId": "5e867b2e-7c6a-4cb2-dd2c-7a2294641606"
   },
   "outputs": [
    {
     "data": {
      "text/plain": [
       "array([[ 2875., 18450.,  5400.],\n",
       "       [10000.,  2500.,     0.]], dtype=float32)"
      ]
     },
     "execution_count": 33,
     "metadata": {},
     "output_type": "execute_result"
    }
   ],
   "source": [
    "src2 = np.array([[125,150,60],[100,10,40]],np.float32)\n",
    "dst = src1 * src2\n",
    "dst"
   ]
  },
  {
   "cell_type": "code",
   "execution_count": 34,
   "metadata": {
    "colab": {
     "base_uri": "https://localhost:8080/",
     "height": 51
    },
    "colab_type": "code",
    "id": "hKO-BJRocKLS",
    "outputId": "e3daea9a-aa6b-498f-e698-b0e04524a4f9"
   },
   "outputs": [
    {
     "data": {
      "text/plain": [
       "array([[ 2875., 18450.,  5400.],\n",
       "       [10000.,  2500.,     0.]], dtype=float32)"
      ]
     },
     "execution_count": 34,
     "metadata": {},
     "output_type": "execute_result"
    }
   ],
   "source": [
    "dst = np.multiply(src1, src2)\n",
    "dst"
   ]
  },
  {
   "cell_type": "code",
   "execution_count": 35,
   "metadata": {
    "colab": {
     "base_uri": "https://localhost:8080/",
     "height": 85
    },
    "colab_type": "code",
    "id": "FL5BQhvtcllF",
    "outputId": "75510ee4-cfa0-4927-91d7-c1110b3950e1"
   },
   "outputs": [
    {
     "name": "stderr",
     "output_type": "stream",
     "text": [
      "D:\\softwave\\Anaconda3\\lib\\site-packages\\ipykernel_launcher.py:2: RuntimeWarning: divide by zero encountered in true_divide\n",
      "  \n"
     ]
    },
    {
     "data": {
      "text/plain": [
       "array([[5.43478261, 1.2195122 , 0.66666667],\n",
       "       [1.        , 0.04      ,        inf]])"
      ]
     },
     "execution_count": 35,
     "metadata": {},
     "output_type": "execute_result"
    }
   ],
   "source": [
    "src2 = np.array([[125,150,60],[100,10,40]],np.uint8)\n",
    "dst = src2 / src1\n",
    "dst"
   ]
  },
  {
   "cell_type": "code",
   "execution_count": 36,
   "metadata": {
    "colab": {
     "base_uri": "https://localhost:8080/",
     "height": 34
    },
    "colab_type": "code",
    "id": "QkULdbZkdLIQ",
    "outputId": "4cd2f086-cdb7-44f5-bcc4-fbfff2a75cac"
   },
   "outputs": [
    {
     "data": {
      "text/plain": [
       "1.5"
      ]
     },
     "execution_count": 36,
     "metadata": {},
     "output_type": "execute_result"
    }
   ],
   "source": [
    "3/2"
   ]
  },
  {
   "cell_type": "code",
   "execution_count": 37,
   "metadata": {
    "colab": {
     "base_uri": "https://localhost:8080/",
     "height": 85
    },
    "colab_type": "code",
    "id": "tOhkhScHc8dr",
    "outputId": "d071de28-902f-4480-b2ab-a1e36d14544d"
   },
   "outputs": [
    {
     "name": "stderr",
     "output_type": "stream",
     "text": [
      "D:\\softwave\\Anaconda3\\lib\\site-packages\\ipykernel_launcher.py:2: RuntimeWarning: divide by zero encountered in true_divide\n",
      "  \n"
     ]
    },
    {
     "data": {
      "text/plain": [
       "array([[5.4347825, 1.2195122, 0.6666667],\n",
       "       [1.       , 0.04     ,       inf]], dtype=float32)"
      ]
     },
     "execution_count": 37,
     "metadata": {},
     "output_type": "execute_result"
    }
   ],
   "source": [
    "src2 = np.array([[125,150,60],[100,10,40]],np.float32)\n",
    "dst = src2 / src1\n",
    "dst"
   ]
  },
  {
   "cell_type": "code",
   "execution_count": 38,
   "metadata": {
    "colab": {
     "base_uri": "https://localhost:8080/",
     "height": 51
    },
    "colab_type": "code",
    "id": "ZR2gBKPVdYNm",
    "outputId": "c3793cac-261b-4ede-c744-55298ad7a7ad"
   },
   "outputs": [
    {
     "data": {
      "text/plain": [
       "array([[20, 14],\n",
       "       [56, 41]], dtype=uint8)"
      ]
     },
     "execution_count": 38,
     "metadata": {},
     "output_type": "execute_result"
    }
   ],
   "source": [
    "src3 = np.array([[1,2,3],[4,5,6]],np.uint8)\n",
    "src4 = np.array([[6,5],[4,3],[2,1]],np.uint8)\n",
    "dst = np.dot(src3, src4)\n",
    "dst"
   ]
  },
  {
   "cell_type": "code",
   "execution_count": 39,
   "metadata": {
    "colab": {
     "base_uri": "https://localhost:8080/",
     "height": 34
    },
    "colab_type": "code",
    "id": "uyWBwnBoeCx4",
    "outputId": "fd2aafa7-7476-4238-d6e8-9a9db44837b4"
   },
   "outputs": [
    {
     "data": {
      "text/plain": [
       "dtype('float16')"
      ]
     },
     "execution_count": 39,
     "metadata": {},
     "output_type": "execute_result"
    }
   ],
   "source": [
    "src5 = np.array([[6,5],[4,3]],np.uint8)\n",
    "dst2 = np.log(src5)\n",
    "dst2.dtype"
   ]
  },
  {
   "cell_type": "code",
   "execution_count": 40,
   "metadata": {
    "colab": {
     "base_uri": "https://localhost:8080/",
     "height": 51
    },
    "colab_type": "code",
    "id": "iVWZv944gG40",
    "outputId": "e1dba4e1-3a66-48f5-f5f9-774b4fa432c0"
   },
   "outputs": [
    {
     "data": {
      "text/plain": [
       "array([[1.792, 1.609],\n",
       "       [1.387, 1.099]], dtype=float16)"
      ]
     },
     "execution_count": 40,
     "metadata": {},
     "output_type": "execute_result"
    }
   ],
   "source": [
    "dst2"
   ]
  },
  {
   "cell_type": "code",
   "execution_count": 41,
   "metadata": {
    "colab": {
     "base_uri": "https://localhost:8080/",
     "height": 51
    },
    "colab_type": "code",
    "id": "f6pSBQOUgI-M",
    "outputId": "f164cca2-7dfa-4138-bb43-764a56cdb355"
   },
   "outputs": [
    {
     "data": {
      "text/plain": [
       "array([[132,  64],\n",
       "       [100,  16]], dtype=uint8)"
      ]
     },
     "execution_count": 41,
     "metadata": {},
     "output_type": "execute_result"
    }
   ],
   "source": [
    "src = np.array([[30,40],[10,100]],np.uint8)\n",
    "dst1 = np.power(src,2)\n",
    "dst1"
   ]
  },
  {
   "cell_type": "code",
   "execution_count": 42,
   "metadata": {
    "colab": {
     "base_uri": "https://localhost:8080/",
     "height": 51
    },
    "colab_type": "code",
    "id": "fp1qi1Z3nQY_",
    "outputId": "18e851e5-ac33-446a-a8f3-2196313bdf09"
   },
   "outputs": [
    {
     "data": {
      "text/plain": [
       "array([[  900.,  1600.],\n",
       "       [  100., 10000.]])"
      ]
     },
     "execution_count": 42,
     "metadata": {},
     "output_type": "execute_result"
    }
   ],
   "source": [
    "dst2 = np.power(src, 2.0)\n",
    "dst2"
   ]
  },
  {
   "cell_type": "code",
   "execution_count": 43,
   "metadata": {
    "colab": {
     "base_uri": "https://localhost:8080/",
     "height": 34
    },
    "colab_type": "code",
    "id": "UZA8NAJapsoa",
    "outputId": "bb447f31-77b7-4f7e-f699-19ccda1af98d"
   },
   "outputs": [
    {
     "data": {
      "text/plain": [
       "dtype('float64')"
      ]
     },
     "execution_count": 43,
     "metadata": {},
     "output_type": "execute_result"
    }
   ],
   "source": [
    "dst2.dtype"
   ]
  },
  {
   "cell_type": "code",
   "execution_count": null,
   "metadata": {
    "colab": {},
    "colab_type": "code",
    "id": "0H_RYSMHpwRB"
   },
   "outputs": [],
   "source": []
  }
 ],
 "metadata": {
  "colab": {
   "collapsed_sections": [],
   "include_colab_link": true,
   "name": "Class2.ipynb",
   "provenance": [],
   "version": "0.3.2"
  },
  "kernelspec": {
   "display_name": "Python 3",
   "language": "python",
   "name": "python3"
  },
  "language_info": {
   "codemirror_mode": {
    "name": "ipython",
    "version": 3
   },
   "file_extension": ".py",
   "mimetype": "text/x-python",
   "name": "python",
   "nbconvert_exporter": "python",
   "pygments_lexer": "ipython3",
   "version": "3.7.0"
  }
 },
 "nbformat": 4,
 "nbformat_minor": 1
}
